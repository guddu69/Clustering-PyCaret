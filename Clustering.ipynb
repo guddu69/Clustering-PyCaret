{
  "nbformat": 4,
  "nbformat_minor": 0,
  "metadata": {
    "colab": {
      "provenance": []
    },
    "kernelspec": {
      "name": "python3",
      "display_name": "Python 3"
    },
    "language_info": {
      "name": "python"
    }
  },
  "cells": [
    {
      "cell_type": "markdown",
      "source": [
        "## Install PyCaret & UCI Library Repository\n",
        "`&> /dev/null` redirects the command standard output to the null device, which is a special device which discards the information written to it."
      ],
      "metadata": {
        "id": "V-XaZ3eVxUsK"
      }
    },
    {
      "cell_type": "code",
      "execution_count": 1,
      "metadata": {
        "colab": {
          "base_uri": "https://localhost:8080/"
        },
        "id": "-q6GlJ6YlExa",
        "outputId": "fee4d492-37d9-462c-bed9-a5ebd9f53f61"
      },
      "outputs": [
        {
          "output_type": "stream",
          "name": "stdout",
          "text": [
            "PyCaret Installed Sucessfully!!\n"
          ]
        }
      ],
      "source": [
        "!pip install pycaret &> /dev/null\n",
        "print(\"PyCaret Installed Sucessfully!!\")"
      ]
    },
    {
      "cell_type": "code",
      "source": [
        "!pip install ucimlrepo &> /dev/null\n",
        "print(\"UCI Lib Repo Installed Sucessfully!!\")"
      ],
      "metadata": {
        "colab": {
          "base_uri": "https://localhost:8080/"
        },
        "id": "snj28Vv-lMH6",
        "outputId": "4f1dab34-1327-4804-a5cb-3fa7d42f4d86"
      },
      "execution_count": 2,
      "outputs": [
        {
          "output_type": "stream",
          "name": "stdout",
          "text": [
            "UCI Lib Repo Installed Sucessfully!!\n"
          ]
        }
      ]
    },
    {
      "cell_type": "markdown",
      "source": [
        "## Importing [Online Shoppers Purchasing Intention Dataset](https://archive.ics.uci.edu/dataset/468/online+shoppers+purchasing+intention+dataset) Data Set from UCI Library.\n"
      ],
      "metadata": {
        "id": "M1EOcIQ8xbju"
      }
    },
    {
      "cell_type": "code",
      "source": [
        "from ucimlrepo import fetch_ucirepo"
      ],
      "metadata": {
        "id": "b6sYCDsOxipF"
      },
      "execution_count": 3,
      "outputs": []
    },
    {
      "cell_type": "markdown",
      "source": [
        "Fetch Data"
      ],
      "metadata": {
        "id": "kiUJ76cExf16"
      }
    },
    {
      "cell_type": "code",
      "source": [
        "data = fetch_ucirepo(id=468)"
      ],
      "metadata": {
        "id": "BGLhg8Y0xjx1"
      },
      "execution_count": 4,
      "outputs": []
    },
    {
      "cell_type": "markdown",
      "source": [
        "Data as dataframe"
      ],
      "metadata": {
        "id": "o7G_ReFVxn5S"
      }
    },
    {
      "cell_type": "code",
      "source": [
        "X = data.data.features\n",
        "Y = data.data.targets # end up purchasing"
      ],
      "metadata": {
        "id": "otP-bZ02lOaR"
      },
      "execution_count": 5,
      "outputs": []
    },
    {
      "cell_type": "markdown",
      "source": [
        "# Clustering"
      ],
      "metadata": {
        "id": "TaO4hh-Ox-k6"
      }
    },
    {
      "cell_type": "markdown",
      "source": [
        "Importing necessary lib"
      ],
      "metadata": {
        "id": "PvrRSJOZyfuN"
      }
    },
    {
      "cell_type": "code",
      "source": [
        "import time # for start and finish time of clustering program\n",
        "import pandas as pd\n",
        "from pycaret.clustering import * # for setup parameters"
      ],
      "metadata": {
        "id": "f3QhI0NGyGsd"
      },
      "execution_count": 6,
      "outputs": []
    },
    {
      "cell_type": "markdown",
      "source": [
        "Start the time"
      ],
      "metadata": {
        "id": "Np4Un-U4ymsI"
      }
    },
    {
      "cell_type": "code",
      "source": [
        "start = time.time()"
      ],
      "metadata": {
        "id": "cl3uF_ZPyrQe"
      },
      "execution_count": 7,
      "outputs": []
    },
    {
      "cell_type": "markdown",
      "source": [
        "Function to **Create Clustering Model** and print results.\n",
        "\n",
        "Due to `verbose = false` **'setup'** won't show the output."
      ],
      "metadata": {
        "id": "RRxDtXanywHp"
      }
    },
    {
      "cell_type": "code",
      "source": [
        "def create_cluster_model(X, num_clusters, algorithm, normalization=False, transformation=False, pca=False):\n",
        "    if normalization:\n",
        "        setup(data=X, normalize=True, normalize_method='zscore', verbose=False)\n",
        "    elif transformation:\n",
        "        setup(data=X, transformation=True, transformation_method='yeo-johnson', verbose=False)\n",
        "    elif pca:\n",
        "        setup(data=X, pca=True, pca_method='linear', verbose=False)\n",
        "    else:\n",
        "        kMeanParameters = setup(X, verbose=False)\n",
        "\n",
        "    model = create_model(algorithm, num_clusters=num_clusters, verbose=False)\n",
        "    results = pull()\n",
        "    return results"
      ],
      "metadata": {
        "id": "7kH97dgvzAIK"
      },
      "execution_count": 8,
      "outputs": []
    },
    {
      "cell_type": "markdown",
      "source": [
        "Defining different types of **Data Pre-Processing** techniques."
      ],
      "metadata": {
        "id": "kB60HxJXzFSz"
      }
    },
    {
      "cell_type": "code",
      "source": [
        "scenarios = [\n",
        "    (\"No Data PreProcessing\", False, False, False),\n",
        "    (\"Normalization\", True, False, False),\n",
        "    (\"Transformation\", False, True, False),\n",
        "    (\"PCA\", False, False, True),\n",
        "    (\"Transformation + Normalization\", True, True, False),\n",
        "    (\"Transformation + Normalization + PCA\", True, True, True)\n",
        "]"
      ],
      "metadata": {
        "id": "sX6En8BOzeJr"
      },
      "execution_count": 9,
      "outputs": []
    },
    {
      "cell_type": "markdown",
      "source": [
        "Defining different type of **Clustering Algorithms** ."
      ],
      "metadata": {
        "id": "CpwFTkpWzkc7"
      }
    },
    {
      "cell_type": "code",
      "source": [
        "algorithms = ['kmeans', 'hclust', 'dbscan']"
      ],
      "metadata": {
        "id": "WdsqKKBNzrp8"
      },
      "execution_count": 10,
      "outputs": []
    },
    {
      "cell_type": "markdown",
      "source": [
        "Define number of Clusters"
      ],
      "metadata": {
        "id": "xwl1UWXQzs1R"
      }
    },
    {
      "cell_type": "code",
      "source": [
        "num_clusters_list = [3, 4, 5]"
      ],
      "metadata": {
        "id": "VGpV3Hp_zwxJ"
      },
      "execution_count": 11,
      "outputs": []
    },
    {
      "cell_type": "markdown",
      "source": [
        "Result"
      ],
      "metadata": {
        "id": "dFP0B_ww2Ndh"
      }
    },
    {
      "cell_type": "code",
      "source": [
        "# Creating results dictionary\n",
        "results_list = []\n",
        "\n",
        "# Creating and printing results in a table\n",
        "for algorithm in algorithms:\n",
        "    for num_clusters in num_clusters_list:\n",
        "        for scenario in scenarios:\n",
        "            name, normalize, transform, pca = scenario\n",
        "            results = create_cluster_model(X, num_clusters=num_clusters, algorithm=algorithm, normalization=normalize, transformation=transform, pca=pca)\n",
        "            silhouette = results['Silhouette'].iloc[0]\n",
        "            calinski_harabasz = results['Calinski-Harabasz'].iloc[0]\n",
        "            davies_bouldin = results['Davies-Bouldin'].iloc[0]\n",
        "            results_list.append({\n",
        "                \"Algorithm\": algorithm,\n",
        "                \"Number of Clusters\": num_clusters,\n",
        "                \"Scenario\": name,\n",
        "                \"Silhouette\": silhouette,\n",
        "                \"Calinski-Harabasz\": calinski_harabasz,\n",
        "                \"Davies-Bouldin\": davies_bouldin\n",
        "            })\n",
        "\n",
        "# Create DataFrame\n",
        "results_df = pd.DataFrame(results_list)"
      ],
      "metadata": {
        "collapsed": true,
        "id": "mxz4AHU3i0QU"
      },
      "execution_count": 12,
      "outputs": []
    },
    {
      "cell_type": "markdown",
      "source": [
        "Total time of execution of program."
      ],
      "metadata": {
        "id": "xE2ezO0K0WNU"
      }
    },
    {
      "cell_type": "code",
      "source": [
        "end = time.time()\n",
        "print(\"The time of execution of program:\", (end-start), \"seconds OR\", (end-start)/60, \"minutes\")"
      ],
      "metadata": {
        "id": "yI3JfIZp0f38",
        "colab": {
          "base_uri": "https://localhost:8080/"
        },
        "outputId": "2fb5b13a-9ca4-45f2-ce2c-745408991c02"
      },
      "execution_count": 13,
      "outputs": [
        {
          "output_type": "stream",
          "name": "stdout",
          "text": [
            "The time of execution of program: 325.9873549938202 seconds OR 5.433122583230337 minutes\n"
          ]
        }
      ]
    },
    {
      "cell_type": "markdown",
      "source": [
        "Visualizing Data as we wish"
      ],
      "metadata": {
        "id": "o333J4rL0Dfr"
      }
    },
    {
      "cell_type": "code",
      "source": [
        "# Pivoting the DataFrame\n",
        "results_pivot = results_df.pivot(index=['Algorithm', 'Number of Clusters'], columns='Scenario')\n",
        "results_pivot"
      ],
      "metadata": {
        "colab": {
          "base_uri": "https://localhost:8080/",
          "height": 495
        },
        "id": "e0at2axqwc87",
        "outputId": "b369b6d9-f8f5-4529-9dbf-8861342d5159"
      },
      "execution_count": 14,
      "outputs": [
        {
          "output_type": "execute_result",
          "data": {
            "text/plain": [
              "                                        Silhouette                        \\\n",
              "Scenario                     No Data PreProcessing Normalization     PCA   \n",
              "Algorithm Number of Clusters                                               \n",
              "dbscan    3                                -0.3585       -0.4274 -0.3585   \n",
              "          4                                -0.3585       -0.4274 -0.3585   \n",
              "          5                                -0.3585       -0.4274 -0.3585   \n",
              "hclust    3                                 0.6663        0.0607  0.6663   \n",
              "          4                                 0.6670        0.0813  0.6670   \n",
              "          5                                 0.6644        0.0891  0.6644   \n",
              "kmeans    3                                 0.6950        0.1147  0.6950   \n",
              "          4                                 0.6758        0.0858  0.6758   \n",
              "          5                                 0.6224        0.0541  0.6278   \n",
              "\n",
              "                                                                            \\\n",
              "Scenario                     Transformation Transformation + Normalization   \n",
              "Algorithm Number of Clusters                                                 \n",
              "dbscan    3                         -0.7146                        -0.4274   \n",
              "          4                         -0.7146                        -0.4274   \n",
              "          5                         -0.7146                        -0.4274   \n",
              "hclust    3                          0.5475                         0.0607   \n",
              "          4                          0.4754                         0.0813   \n",
              "          5                          0.4593                         0.0891   \n",
              "kmeans    3                          0.5480                         0.1704   \n",
              "          4                          0.5027                         0.0771   \n",
              "          5                          0.4865                         0.0905   \n",
              "\n",
              "                                                                   \\\n",
              "Scenario                     Transformation + Normalization + PCA   \n",
              "Algorithm Number of Clusters                                        \n",
              "dbscan    3                                               -0.4274   \n",
              "          4                                               -0.4274   \n",
              "          5                                               -0.4274   \n",
              "hclust    3                                                0.0607   \n",
              "          4                                                0.0813   \n",
              "          5                                                0.0891   \n",
              "kmeans    3                                                0.0799   \n",
              "          4                                                0.0574   \n",
              "          5                                                0.1021   \n",
              "\n",
              "                                 Calinski-Harabasz                            \\\n",
              "Scenario                     No Data PreProcessing Normalization         PCA   \n",
              "Algorithm Number of Clusters                                                   \n",
              "dbscan    3                                 2.9168       11.1629      2.9168   \n",
              "          4                                 2.9168       11.1629      2.9168   \n",
              "          5                                 2.9168       11.1629      2.9168   \n",
              "hclust    3                             14724.3807      721.7452  14724.3807   \n",
              "          4                             15605.0983      728.5675  15605.0983   \n",
              "          5                             16904.5948      739.8240  16904.5948   \n",
              "kmeans    3                             15202.0688      768.0329  15202.0688   \n",
              "          4                             17232.3126      667.4294  17232.3126   \n",
              "          5                             20334.6668      838.2072  19802.1918   \n",
              "\n",
              "                                                                            \\\n",
              "Scenario                     Transformation Transformation + Normalization   \n",
              "Algorithm Number of Clusters                                                 \n",
              "dbscan    3                         30.7557                        11.1629   \n",
              "          4                         30.7557                        11.1629   \n",
              "          5                         30.7557                        11.1629   \n",
              "hclust    3                     311755.5460                       721.7452   \n",
              "          4                     292623.8974                       728.5675   \n",
              "          5                     296311.3836                       739.8240   \n",
              "kmeans    3                     315502.9890                       970.0911   \n",
              "          4                     318296.6009                       726.0686   \n",
              "          5                     308221.5927                       955.0055   \n",
              "\n",
              "                                                                   \\\n",
              "Scenario                     Transformation + Normalization + PCA   \n",
              "Algorithm Number of Clusters                                        \n",
              "dbscan    3                                               11.1629   \n",
              "          4                                               11.1629   \n",
              "          5                                               11.1629   \n",
              "hclust    3                                              721.7452   \n",
              "          4                                              728.5675   \n",
              "          5                                              739.8240   \n",
              "kmeans    3                                              902.9892   \n",
              "          4                                              759.8312   \n",
              "          5                                              839.1009   \n",
              "\n",
              "                                    Davies-Bouldin                        \\\n",
              "Scenario                     No Data PreProcessing Normalization     PCA   \n",
              "Algorithm Number of Clusters                                               \n",
              "dbscan    3                                 0.9412        1.4134  0.9412   \n",
              "          4                                 0.9412        1.4134  0.9412   \n",
              "          5                                 0.9412        1.4134  0.9412   \n",
              "hclust    3                                 0.5806        2.3787  0.5806   \n",
              "          4                                 0.4986        2.3035  0.4986   \n",
              "          5                                 0.5471        2.3236  0.5471   \n",
              "kmeans    3                                 0.5601        2.5171  0.5601   \n",
              "          4                                 0.5416        2.4386  0.5416   \n",
              "          5                                 0.5643        2.1077  0.5175   \n",
              "\n",
              "                                                                            \\\n",
              "Scenario                     Transformation Transformation + Normalization   \n",
              "Algorithm Number of Clusters                                                 \n",
              "dbscan    3                          1.5281                         1.4134   \n",
              "          4                          1.5281                         1.4134   \n",
              "          5                          1.5281                         1.4134   \n",
              "hclust    3                          0.5065                         2.3787   \n",
              "          4                          0.6176                         2.3035   \n",
              "          5                          0.6537                         2.3236   \n",
              "kmeans    3                          0.5108                         2.1190   \n",
              "          4                          0.5843                         2.2910   \n",
              "          5                          0.6168                         2.2757   \n",
              "\n",
              "                                                                   \n",
              "Scenario                     Transformation + Normalization + PCA  \n",
              "Algorithm Number of Clusters                                       \n",
              "dbscan    3                                                1.4134  \n",
              "          4                                                1.4134  \n",
              "          5                                                1.4134  \n",
              "hclust    3                                                2.3787  \n",
              "          4                                                2.3035  \n",
              "          5                                                2.3236  \n",
              "kmeans    3                                                2.7470  \n",
              "          4                                                2.0494  \n",
              "          5                                                1.8619  "
            ],
            "text/html": [
              "\n",
              "  <div id=\"df-7022f578-ff89-473b-b040-2d62e0d8cd4e\" class=\"colab-df-container\">\n",
              "    <div>\n",
              "<style scoped>\n",
              "    .dataframe tbody tr th:only-of-type {\n",
              "        vertical-align: middle;\n",
              "    }\n",
              "\n",
              "    .dataframe tbody tr th {\n",
              "        vertical-align: top;\n",
              "    }\n",
              "\n",
              "    .dataframe thead tr th {\n",
              "        text-align: left;\n",
              "    }\n",
              "\n",
              "    .dataframe thead tr:last-of-type th {\n",
              "        text-align: right;\n",
              "    }\n",
              "</style>\n",
              "<table border=\"1\" class=\"dataframe\">\n",
              "  <thead>\n",
              "    <tr>\n",
              "      <th></th>\n",
              "      <th></th>\n",
              "      <th colspan=\"6\" halign=\"left\">Silhouette</th>\n",
              "      <th colspan=\"6\" halign=\"left\">Calinski-Harabasz</th>\n",
              "      <th colspan=\"6\" halign=\"left\">Davies-Bouldin</th>\n",
              "    </tr>\n",
              "    <tr>\n",
              "      <th></th>\n",
              "      <th>Scenario</th>\n",
              "      <th>No Data PreProcessing</th>\n",
              "      <th>Normalization</th>\n",
              "      <th>PCA</th>\n",
              "      <th>Transformation</th>\n",
              "      <th>Transformation + Normalization</th>\n",
              "      <th>Transformation + Normalization + PCA</th>\n",
              "      <th>No Data PreProcessing</th>\n",
              "      <th>Normalization</th>\n",
              "      <th>PCA</th>\n",
              "      <th>Transformation</th>\n",
              "      <th>Transformation + Normalization</th>\n",
              "      <th>Transformation + Normalization + PCA</th>\n",
              "      <th>No Data PreProcessing</th>\n",
              "      <th>Normalization</th>\n",
              "      <th>PCA</th>\n",
              "      <th>Transformation</th>\n",
              "      <th>Transformation + Normalization</th>\n",
              "      <th>Transformation + Normalization + PCA</th>\n",
              "    </tr>\n",
              "    <tr>\n",
              "      <th>Algorithm</th>\n",
              "      <th>Number of Clusters</th>\n",
              "      <th></th>\n",
              "      <th></th>\n",
              "      <th></th>\n",
              "      <th></th>\n",
              "      <th></th>\n",
              "      <th></th>\n",
              "      <th></th>\n",
              "      <th></th>\n",
              "      <th></th>\n",
              "      <th></th>\n",
              "      <th></th>\n",
              "      <th></th>\n",
              "      <th></th>\n",
              "      <th></th>\n",
              "      <th></th>\n",
              "      <th></th>\n",
              "      <th></th>\n",
              "      <th></th>\n",
              "    </tr>\n",
              "  </thead>\n",
              "  <tbody>\n",
              "    <tr>\n",
              "      <th rowspan=\"3\" valign=\"top\">dbscan</th>\n",
              "      <th>3</th>\n",
              "      <td>-0.3585</td>\n",
              "      <td>-0.4274</td>\n",
              "      <td>-0.3585</td>\n",
              "      <td>-0.7146</td>\n",
              "      <td>-0.4274</td>\n",
              "      <td>-0.4274</td>\n",
              "      <td>2.9168</td>\n",
              "      <td>11.1629</td>\n",
              "      <td>2.9168</td>\n",
              "      <td>30.7557</td>\n",
              "      <td>11.1629</td>\n",
              "      <td>11.1629</td>\n",
              "      <td>0.9412</td>\n",
              "      <td>1.4134</td>\n",
              "      <td>0.9412</td>\n",
              "      <td>1.5281</td>\n",
              "      <td>1.4134</td>\n",
              "      <td>1.4134</td>\n",
              "    </tr>\n",
              "    <tr>\n",
              "      <th>4</th>\n",
              "      <td>-0.3585</td>\n",
              "      <td>-0.4274</td>\n",
              "      <td>-0.3585</td>\n",
              "      <td>-0.7146</td>\n",
              "      <td>-0.4274</td>\n",
              "      <td>-0.4274</td>\n",
              "      <td>2.9168</td>\n",
              "      <td>11.1629</td>\n",
              "      <td>2.9168</td>\n",
              "      <td>30.7557</td>\n",
              "      <td>11.1629</td>\n",
              "      <td>11.1629</td>\n",
              "      <td>0.9412</td>\n",
              "      <td>1.4134</td>\n",
              "      <td>0.9412</td>\n",
              "      <td>1.5281</td>\n",
              "      <td>1.4134</td>\n",
              "      <td>1.4134</td>\n",
              "    </tr>\n",
              "    <tr>\n",
              "      <th>5</th>\n",
              "      <td>-0.3585</td>\n",
              "      <td>-0.4274</td>\n",
              "      <td>-0.3585</td>\n",
              "      <td>-0.7146</td>\n",
              "      <td>-0.4274</td>\n",
              "      <td>-0.4274</td>\n",
              "      <td>2.9168</td>\n",
              "      <td>11.1629</td>\n",
              "      <td>2.9168</td>\n",
              "      <td>30.7557</td>\n",
              "      <td>11.1629</td>\n",
              "      <td>11.1629</td>\n",
              "      <td>0.9412</td>\n",
              "      <td>1.4134</td>\n",
              "      <td>0.9412</td>\n",
              "      <td>1.5281</td>\n",
              "      <td>1.4134</td>\n",
              "      <td>1.4134</td>\n",
              "    </tr>\n",
              "    <tr>\n",
              "      <th rowspan=\"3\" valign=\"top\">hclust</th>\n",
              "      <th>3</th>\n",
              "      <td>0.6663</td>\n",
              "      <td>0.0607</td>\n",
              "      <td>0.6663</td>\n",
              "      <td>0.5475</td>\n",
              "      <td>0.0607</td>\n",
              "      <td>0.0607</td>\n",
              "      <td>14724.3807</td>\n",
              "      <td>721.7452</td>\n",
              "      <td>14724.3807</td>\n",
              "      <td>311755.5460</td>\n",
              "      <td>721.7452</td>\n",
              "      <td>721.7452</td>\n",
              "      <td>0.5806</td>\n",
              "      <td>2.3787</td>\n",
              "      <td>0.5806</td>\n",
              "      <td>0.5065</td>\n",
              "      <td>2.3787</td>\n",
              "      <td>2.3787</td>\n",
              "    </tr>\n",
              "    <tr>\n",
              "      <th>4</th>\n",
              "      <td>0.6670</td>\n",
              "      <td>0.0813</td>\n",
              "      <td>0.6670</td>\n",
              "      <td>0.4754</td>\n",
              "      <td>0.0813</td>\n",
              "      <td>0.0813</td>\n",
              "      <td>15605.0983</td>\n",
              "      <td>728.5675</td>\n",
              "      <td>15605.0983</td>\n",
              "      <td>292623.8974</td>\n",
              "      <td>728.5675</td>\n",
              "      <td>728.5675</td>\n",
              "      <td>0.4986</td>\n",
              "      <td>2.3035</td>\n",
              "      <td>0.4986</td>\n",
              "      <td>0.6176</td>\n",
              "      <td>2.3035</td>\n",
              "      <td>2.3035</td>\n",
              "    </tr>\n",
              "    <tr>\n",
              "      <th>5</th>\n",
              "      <td>0.6644</td>\n",
              "      <td>0.0891</td>\n",
              "      <td>0.6644</td>\n",
              "      <td>0.4593</td>\n",
              "      <td>0.0891</td>\n",
              "      <td>0.0891</td>\n",
              "      <td>16904.5948</td>\n",
              "      <td>739.8240</td>\n",
              "      <td>16904.5948</td>\n",
              "      <td>296311.3836</td>\n",
              "      <td>739.8240</td>\n",
              "      <td>739.8240</td>\n",
              "      <td>0.5471</td>\n",
              "      <td>2.3236</td>\n",
              "      <td>0.5471</td>\n",
              "      <td>0.6537</td>\n",
              "      <td>2.3236</td>\n",
              "      <td>2.3236</td>\n",
              "    </tr>\n",
              "    <tr>\n",
              "      <th rowspan=\"3\" valign=\"top\">kmeans</th>\n",
              "      <th>3</th>\n",
              "      <td>0.6950</td>\n",
              "      <td>0.1147</td>\n",
              "      <td>0.6950</td>\n",
              "      <td>0.5480</td>\n",
              "      <td>0.1704</td>\n",
              "      <td>0.0799</td>\n",
              "      <td>15202.0688</td>\n",
              "      <td>768.0329</td>\n",
              "      <td>15202.0688</td>\n",
              "      <td>315502.9890</td>\n",
              "      <td>970.0911</td>\n",
              "      <td>902.9892</td>\n",
              "      <td>0.5601</td>\n",
              "      <td>2.5171</td>\n",
              "      <td>0.5601</td>\n",
              "      <td>0.5108</td>\n",
              "      <td>2.1190</td>\n",
              "      <td>2.7470</td>\n",
              "    </tr>\n",
              "    <tr>\n",
              "      <th>4</th>\n",
              "      <td>0.6758</td>\n",
              "      <td>0.0858</td>\n",
              "      <td>0.6758</td>\n",
              "      <td>0.5027</td>\n",
              "      <td>0.0771</td>\n",
              "      <td>0.0574</td>\n",
              "      <td>17232.3126</td>\n",
              "      <td>667.4294</td>\n",
              "      <td>17232.3126</td>\n",
              "      <td>318296.6009</td>\n",
              "      <td>726.0686</td>\n",
              "      <td>759.8312</td>\n",
              "      <td>0.5416</td>\n",
              "      <td>2.4386</td>\n",
              "      <td>0.5416</td>\n",
              "      <td>0.5843</td>\n",
              "      <td>2.2910</td>\n",
              "      <td>2.0494</td>\n",
              "    </tr>\n",
              "    <tr>\n",
              "      <th>5</th>\n",
              "      <td>0.6224</td>\n",
              "      <td>0.0541</td>\n",
              "      <td>0.6278</td>\n",
              "      <td>0.4865</td>\n",
              "      <td>0.0905</td>\n",
              "      <td>0.1021</td>\n",
              "      <td>20334.6668</td>\n",
              "      <td>838.2072</td>\n",
              "      <td>19802.1918</td>\n",
              "      <td>308221.5927</td>\n",
              "      <td>955.0055</td>\n",
              "      <td>839.1009</td>\n",
              "      <td>0.5643</td>\n",
              "      <td>2.1077</td>\n",
              "      <td>0.5175</td>\n",
              "      <td>0.6168</td>\n",
              "      <td>2.2757</td>\n",
              "      <td>1.8619</td>\n",
              "    </tr>\n",
              "  </tbody>\n",
              "</table>\n",
              "</div>\n",
              "    <div class=\"colab-df-buttons\">\n",
              "\n",
              "  <div class=\"colab-df-container\">\n",
              "    <button class=\"colab-df-convert\" onclick=\"convertToInteractive('df-7022f578-ff89-473b-b040-2d62e0d8cd4e')\"\n",
              "            title=\"Convert this dataframe to an interactive table.\"\n",
              "            style=\"display:none;\">\n",
              "\n",
              "  <svg xmlns=\"http://www.w3.org/2000/svg\" height=\"24px\" viewBox=\"0 -960 960 960\">\n",
              "    <path d=\"M120-120v-720h720v720H120Zm60-500h600v-160H180v160Zm220 220h160v-160H400v160Zm0 220h160v-160H400v160ZM180-400h160v-160H180v160Zm440 0h160v-160H620v160ZM180-180h160v-160H180v160Zm440 0h160v-160H620v160Z\"/>\n",
              "  </svg>\n",
              "    </button>\n",
              "\n",
              "  <style>\n",
              "    .colab-df-container {\n",
              "      display:flex;\n",
              "      gap: 12px;\n",
              "    }\n",
              "\n",
              "    .colab-df-convert {\n",
              "      background-color: #E8F0FE;\n",
              "      border: none;\n",
              "      border-radius: 50%;\n",
              "      cursor: pointer;\n",
              "      display: none;\n",
              "      fill: #1967D2;\n",
              "      height: 32px;\n",
              "      padding: 0 0 0 0;\n",
              "      width: 32px;\n",
              "    }\n",
              "\n",
              "    .colab-df-convert:hover {\n",
              "      background-color: #E2EBFA;\n",
              "      box-shadow: 0px 1px 2px rgba(60, 64, 67, 0.3), 0px 1px 3px 1px rgba(60, 64, 67, 0.15);\n",
              "      fill: #174EA6;\n",
              "    }\n",
              "\n",
              "    .colab-df-buttons div {\n",
              "      margin-bottom: 4px;\n",
              "    }\n",
              "\n",
              "    [theme=dark] .colab-df-convert {\n",
              "      background-color: #3B4455;\n",
              "      fill: #D2E3FC;\n",
              "    }\n",
              "\n",
              "    [theme=dark] .colab-df-convert:hover {\n",
              "      background-color: #434B5C;\n",
              "      box-shadow: 0px 1px 3px 1px rgba(0, 0, 0, 0.15);\n",
              "      filter: drop-shadow(0px 1px 2px rgba(0, 0, 0, 0.3));\n",
              "      fill: #FFFFFF;\n",
              "    }\n",
              "  </style>\n",
              "\n",
              "    <script>\n",
              "      const buttonEl =\n",
              "        document.querySelector('#df-7022f578-ff89-473b-b040-2d62e0d8cd4e button.colab-df-convert');\n",
              "      buttonEl.style.display =\n",
              "        google.colab.kernel.accessAllowed ? 'block' : 'none';\n",
              "\n",
              "      async function convertToInteractive(key) {\n",
              "        const element = document.querySelector('#df-7022f578-ff89-473b-b040-2d62e0d8cd4e');\n",
              "        const dataTable =\n",
              "          await google.colab.kernel.invokeFunction('convertToInteractive',\n",
              "                                                    [key], {});\n",
              "        if (!dataTable) return;\n",
              "\n",
              "        const docLinkHtml = 'Like what you see? Visit the ' +\n",
              "          '<a target=\"_blank\" href=https://colab.research.google.com/notebooks/data_table.ipynb>data table notebook</a>'\n",
              "          + ' to learn more about interactive tables.';\n",
              "        element.innerHTML = '';\n",
              "        dataTable['output_type'] = 'display_data';\n",
              "        await google.colab.output.renderOutput(dataTable, element);\n",
              "        const docLink = document.createElement('div');\n",
              "        docLink.innerHTML = docLinkHtml;\n",
              "        element.appendChild(docLink);\n",
              "      }\n",
              "    </script>\n",
              "  </div>\n",
              "\n",
              "\n",
              "<div id=\"df-c480edd8-6c79-4386-8ce4-3541dcce56f3\">\n",
              "  <button class=\"colab-df-quickchart\" onclick=\"quickchart('df-c480edd8-6c79-4386-8ce4-3541dcce56f3')\"\n",
              "            title=\"Suggest charts\"\n",
              "            style=\"display:none;\">\n",
              "\n",
              "<svg xmlns=\"http://www.w3.org/2000/svg\" height=\"24px\"viewBox=\"0 0 24 24\"\n",
              "     width=\"24px\">\n",
              "    <g>\n",
              "        <path d=\"M19 3H5c-1.1 0-2 .9-2 2v14c0 1.1.9 2 2 2h14c1.1 0 2-.9 2-2V5c0-1.1-.9-2-2-2zM9 17H7v-7h2v7zm4 0h-2V7h2v10zm4 0h-2v-4h2v4z\"/>\n",
              "    </g>\n",
              "</svg>\n",
              "  </button>\n",
              "\n",
              "<style>\n",
              "  .colab-df-quickchart {\n",
              "      --bg-color: #E8F0FE;\n",
              "      --fill-color: #1967D2;\n",
              "      --hover-bg-color: #E2EBFA;\n",
              "      --hover-fill-color: #174EA6;\n",
              "      --disabled-fill-color: #AAA;\n",
              "      --disabled-bg-color: #DDD;\n",
              "  }\n",
              "\n",
              "  [theme=dark] .colab-df-quickchart {\n",
              "      --bg-color: #3B4455;\n",
              "      --fill-color: #D2E3FC;\n",
              "      --hover-bg-color: #434B5C;\n",
              "      --hover-fill-color: #FFFFFF;\n",
              "      --disabled-bg-color: #3B4455;\n",
              "      --disabled-fill-color: #666;\n",
              "  }\n",
              "\n",
              "  .colab-df-quickchart {\n",
              "    background-color: var(--bg-color);\n",
              "    border: none;\n",
              "    border-radius: 50%;\n",
              "    cursor: pointer;\n",
              "    display: none;\n",
              "    fill: var(--fill-color);\n",
              "    height: 32px;\n",
              "    padding: 0;\n",
              "    width: 32px;\n",
              "  }\n",
              "\n",
              "  .colab-df-quickchart:hover {\n",
              "    background-color: var(--hover-bg-color);\n",
              "    box-shadow: 0 1px 2px rgba(60, 64, 67, 0.3), 0 1px 3px 1px rgba(60, 64, 67, 0.15);\n",
              "    fill: var(--button-hover-fill-color);\n",
              "  }\n",
              "\n",
              "  .colab-df-quickchart-complete:disabled,\n",
              "  .colab-df-quickchart-complete:disabled:hover {\n",
              "    background-color: var(--disabled-bg-color);\n",
              "    fill: var(--disabled-fill-color);\n",
              "    box-shadow: none;\n",
              "  }\n",
              "\n",
              "  .colab-df-spinner {\n",
              "    border: 2px solid var(--fill-color);\n",
              "    border-color: transparent;\n",
              "    border-bottom-color: var(--fill-color);\n",
              "    animation:\n",
              "      spin 1s steps(1) infinite;\n",
              "  }\n",
              "\n",
              "  @keyframes spin {\n",
              "    0% {\n",
              "      border-color: transparent;\n",
              "      border-bottom-color: var(--fill-color);\n",
              "      border-left-color: var(--fill-color);\n",
              "    }\n",
              "    20% {\n",
              "      border-color: transparent;\n",
              "      border-left-color: var(--fill-color);\n",
              "      border-top-color: var(--fill-color);\n",
              "    }\n",
              "    30% {\n",
              "      border-color: transparent;\n",
              "      border-left-color: var(--fill-color);\n",
              "      border-top-color: var(--fill-color);\n",
              "      border-right-color: var(--fill-color);\n",
              "    }\n",
              "    40% {\n",
              "      border-color: transparent;\n",
              "      border-right-color: var(--fill-color);\n",
              "      border-top-color: var(--fill-color);\n",
              "    }\n",
              "    60% {\n",
              "      border-color: transparent;\n",
              "      border-right-color: var(--fill-color);\n",
              "    }\n",
              "    80% {\n",
              "      border-color: transparent;\n",
              "      border-right-color: var(--fill-color);\n",
              "      border-bottom-color: var(--fill-color);\n",
              "    }\n",
              "    90% {\n",
              "      border-color: transparent;\n",
              "      border-bottom-color: var(--fill-color);\n",
              "    }\n",
              "  }\n",
              "</style>\n",
              "\n",
              "  <script>\n",
              "    async function quickchart(key) {\n",
              "      const quickchartButtonEl =\n",
              "        document.querySelector('#' + key + ' button');\n",
              "      quickchartButtonEl.disabled = true;  // To prevent multiple clicks.\n",
              "      quickchartButtonEl.classList.add('colab-df-spinner');\n",
              "      try {\n",
              "        const charts = await google.colab.kernel.invokeFunction(\n",
              "            'suggestCharts', [key], {});\n",
              "      } catch (error) {\n",
              "        console.error('Error during call to suggestCharts:', error);\n",
              "      }\n",
              "      quickchartButtonEl.classList.remove('colab-df-spinner');\n",
              "      quickchartButtonEl.classList.add('colab-df-quickchart-complete');\n",
              "    }\n",
              "    (() => {\n",
              "      let quickchartButtonEl =\n",
              "        document.querySelector('#df-c480edd8-6c79-4386-8ce4-3541dcce56f3 button');\n",
              "      quickchartButtonEl.style.display =\n",
              "        google.colab.kernel.accessAllowed ? 'block' : 'none';\n",
              "    })();\n",
              "  </script>\n",
              "</div>\n",
              "\n",
              "  <div id=\"id_2d317b40-8e98-4dce-979d-96adbc4d68d6\">\n",
              "    <style>\n",
              "      .colab-df-generate {\n",
              "        background-color: #E8F0FE;\n",
              "        border: none;\n",
              "        border-radius: 50%;\n",
              "        cursor: pointer;\n",
              "        display: none;\n",
              "        fill: #1967D2;\n",
              "        height: 32px;\n",
              "        padding: 0 0 0 0;\n",
              "        width: 32px;\n",
              "      }\n",
              "\n",
              "      .colab-df-generate:hover {\n",
              "        background-color: #E2EBFA;\n",
              "        box-shadow: 0px 1px 2px rgba(60, 64, 67, 0.3), 0px 1px 3px 1px rgba(60, 64, 67, 0.15);\n",
              "        fill: #174EA6;\n",
              "      }\n",
              "\n",
              "      [theme=dark] .colab-df-generate {\n",
              "        background-color: #3B4455;\n",
              "        fill: #D2E3FC;\n",
              "      }\n",
              "\n",
              "      [theme=dark] .colab-df-generate:hover {\n",
              "        background-color: #434B5C;\n",
              "        box-shadow: 0px 1px 3px 1px rgba(0, 0, 0, 0.15);\n",
              "        filter: drop-shadow(0px 1px 2px rgba(0, 0, 0, 0.3));\n",
              "        fill: #FFFFFF;\n",
              "      }\n",
              "    </style>\n",
              "    <button class=\"colab-df-generate\" onclick=\"generateWithVariable('results_pivot')\"\n",
              "            title=\"Generate code using this dataframe.\"\n",
              "            style=\"display:none;\">\n",
              "\n",
              "  <svg xmlns=\"http://www.w3.org/2000/svg\" height=\"24px\"viewBox=\"0 0 24 24\"\n",
              "       width=\"24px\">\n",
              "    <path d=\"M7,19H8.4L18.45,9,17,7.55,7,17.6ZM5,21V16.75L18.45,3.32a2,2,0,0,1,2.83,0l1.4,1.43a1.91,1.91,0,0,1,.58,1.4,1.91,1.91,0,0,1-.58,1.4L9.25,21ZM18.45,9,17,7.55Zm-12,3A5.31,5.31,0,0,0,4.9,8.1,5.31,5.31,0,0,0,1,6.5,5.31,5.31,0,0,0,4.9,4.9,5.31,5.31,0,0,0,6.5,1,5.31,5.31,0,0,0,8.1,4.9,5.31,5.31,0,0,0,12,6.5,5.46,5.46,0,0,0,6.5,12Z\"/>\n",
              "  </svg>\n",
              "    </button>\n",
              "    <script>\n",
              "      (() => {\n",
              "      const buttonEl =\n",
              "        document.querySelector('#id_2d317b40-8e98-4dce-979d-96adbc4d68d6 button.colab-df-generate');\n",
              "      buttonEl.style.display =\n",
              "        google.colab.kernel.accessAllowed ? 'block' : 'none';\n",
              "\n",
              "      buttonEl.onclick = () => {\n",
              "        google.colab.notebook.generateWithVariable('results_pivot');\n",
              "      }\n",
              "      })();\n",
              "    </script>\n",
              "  </div>\n",
              "\n",
              "    </div>\n",
              "  </div>\n"
            ],
            "application/vnd.google.colaboratory.intrinsic+json": {
              "type": "dataframe",
              "variable_name": "results_pivot",
              "summary": "{\n  \"name\": \"results_pivot\",\n  \"rows\": 9,\n  \"fields\": [\n    {\n      \"column\": [\n        \"Silhouette\",\n        \"No Data PreProcessing\"\n      ],\n      \"properties\": {\n        \"dtype\": \"number\",\n        \"std\": 0.512171353162201,\n        \"min\": -0.3585,\n        \"max\": 0.695,\n        \"num_unique_values\": 7,\n        \"samples\": [\n          -0.3585,\n          0.6663,\n          0.6758\n        ],\n        \"semantic_type\": \"\",\n        \"description\": \"\"\n      }\n    },\n    {\n      \"column\": [\n        \"Silhouette\",\n        \"Normalization\"\n      ],\n      \"properties\": {\n        \"dtype\": \"number\",\n        \"std\": 0.25475467611017466,\n        \"min\": -0.4274,\n        \"max\": 0.1147,\n        \"num_unique_values\": 7,\n        \"samples\": [\n          -0.4274,\n          0.0607,\n          0.0858\n        ],\n        \"semantic_type\": \"\",\n        \"description\": \"\"\n      }\n    },\n    {\n      \"column\": [\n        \"Silhouette\",\n        \"PCA\"\n      ],\n      \"properties\": {\n        \"dtype\": \"number\",\n        \"std\": 0.512567717477408,\n        \"min\": -0.3585,\n        \"max\": 0.695,\n        \"num_unique_values\": 7,\n        \"samples\": [\n          -0.3585,\n          0.6663,\n          0.6758\n        ],\n        \"semantic_type\": \"\",\n        \"description\": \"\"\n      }\n    },\n    {\n      \"column\": [\n        \"Silhouette\",\n        \"Transformation\"\n      ],\n      \"properties\": {\n        \"dtype\": \"number\",\n        \"std\": 0.6096294744441997,\n        \"min\": -0.7146,\n        \"max\": 0.548,\n        \"num_unique_values\": 7,\n        \"samples\": [\n          -0.7146,\n          0.5475,\n          0.5027\n        ],\n        \"semantic_type\": \"\",\n        \"description\": \"\"\n      }\n    },\n    {\n      \"column\": [\n        \"Silhouette\",\n        \"Transformation + Normalization\"\n      ],\n      \"properties\": {\n        \"dtype\": \"number\",\n        \"std\": 0.26289608213132426,\n        \"min\": -0.4274,\n        \"max\": 0.1704,\n        \"num_unique_values\": 7,\n        \"samples\": [\n          -0.4274,\n          0.0607,\n          0.0771\n        ],\n        \"semantic_type\": \"\",\n        \"description\": \"\"\n      }\n    },\n    {\n      \"column\": [\n        \"Silhouette\",\n        \"Transformation + Normalization + PCA\"\n      ],\n      \"properties\": {\n        \"dtype\": \"number\",\n        \"std\": 0.25326422193257203,\n        \"min\": -0.4274,\n        \"max\": 0.1021,\n        \"num_unique_values\": 7,\n        \"samples\": [\n          -0.4274,\n          0.0607,\n          0.0574\n        ],\n        \"semantic_type\": \"\",\n        \"description\": \"\"\n      }\n    },\n    {\n      \"column\": [\n        \"Calinski-Harabasz\",\n        \"No Data PreProcessing\"\n      ],\n      \"properties\": {\n        \"dtype\": \"number\",\n        \"std\": 8487.277538718312,\n        \"min\": 2.9168,\n        \"max\": 20334.6668,\n        \"num_unique_values\": 7,\n        \"samples\": [\n          2.9168,\n          14724.3807,\n          17232.3126\n        ],\n        \"semantic_type\": \"\",\n        \"description\": \"\"\n      }\n    },\n    {\n      \"column\": [\n        \"Calinski-Harabasz\",\n        \"Normalization\"\n      ],\n      \"properties\": {\n        \"dtype\": \"number\",\n        \"std\": 369.132810499866,\n        \"min\": 11.1629,\n        \"max\": 838.2072,\n        \"num_unique_values\": 7,\n        \"samples\": [\n          11.1629,\n          721.7452,\n          667.4294\n        ],\n        \"semantic_type\": \"\",\n        \"description\": \"\"\n      }\n    },\n    {\n      \"column\": [\n        \"Calinski-Harabasz\",\n        \"PCA\"\n      ],\n      \"properties\": {\n        \"dtype\": \"number\",\n        \"std\": 8416.515354435398,\n        \"min\": 2.9168,\n        \"max\": 19802.1918,\n        \"num_unique_values\": 7,\n        \"samples\": [\n          2.9168,\n          14724.3807,\n          17232.3126\n        ],\n        \"semantic_type\": \"\",\n        \"description\": \"\"\n      }\n    },\n    {\n      \"column\": [\n        \"Calinski-Harabasz\",\n        \"Transformation\"\n      ],\n      \"properties\": {\n        \"dtype\": \"number\",\n        \"std\": 153765.57968340282,\n        \"min\": 30.7557,\n        \"max\": 318296.6009,\n        \"num_unique_values\": 7,\n        \"samples\": [\n          30.7557,\n          311755.546,\n          318296.6009\n        ],\n        \"semantic_type\": \"\",\n        \"description\": \"\"\n      }\n    },\n    {\n      \"column\": [\n        \"Calinski-Harabasz\",\n        \"Transformation + Normalization\"\n      ],\n      \"properties\": {\n        \"dtype\": \"number\",\n        \"std\": 409.1652817211982,\n        \"min\": 11.1629,\n        \"max\": 970.0911,\n        \"num_unique_values\": 7,\n        \"samples\": [\n          11.1629,\n          721.7452,\n          726.0686\n        ],\n        \"semantic_type\": \"\",\n        \"description\": \"\"\n      }\n    },\n    {\n      \"column\": [\n        \"Calinski-Harabasz\",\n        \"Transformation + Normalization + PCA\"\n      ],\n      \"properties\": {\n        \"dtype\": \"number\",\n        \"std\": 389.72174652988355,\n        \"min\": 11.1629,\n        \"max\": 902.9892,\n        \"num_unique_values\": 7,\n        \"samples\": [\n          11.1629,\n          721.7452,\n          759.8312\n        ],\n        \"semantic_type\": \"\",\n        \"description\": \"\"\n      }\n    },\n    {\n      \"column\": [\n        \"Davies-Bouldin\",\n        \"No Data PreProcessing\"\n      ],\n      \"properties\": {\n        \"dtype\": \"number\",\n        \"std\": 0.19749691207149994,\n        \"min\": 0.4986,\n        \"max\": 0.9412,\n        \"num_unique_values\": 7,\n        \"samples\": [\n          0.9412,\n          0.5806,\n          0.5416\n        ],\n        \"semantic_type\": \"\",\n        \"description\": \"\"\n      }\n    },\n    {\n      \"column\": [\n        \"Davies-Bouldin\",\n        \"Normalization\"\n      ],\n      \"properties\": {\n        \"dtype\": \"number\",\n        \"std\": 0.47870486152163155,\n        \"min\": 1.4134,\n        \"max\": 2.5171,\n        \"num_unique_values\": 7,\n        \"samples\": [\n          1.4134,\n          2.3787,\n          2.4386\n        ],\n        \"semantic_type\": \"\",\n        \"description\": \"\"\n      }\n    },\n    {\n      \"column\": [\n        \"Davies-Bouldin\",\n        \"PCA\"\n      ],\n      \"properties\": {\n        \"dtype\": \"number\",\n        \"std\": 0.20148635258443134,\n        \"min\": 0.4986,\n        \"max\": 0.9412,\n        \"num_unique_values\": 7,\n        \"samples\": [\n          0.9412,\n          0.5806,\n          0.5416\n        ],\n        \"semantic_type\": \"\",\n        \"description\": \"\"\n      }\n    },\n    {\n      \"column\": [\n        \"Davies-Bouldin\",\n        \"Transformation\"\n      ],\n      \"properties\": {\n        \"dtype\": \"number\",\n        \"std\": 0.4756646388067029,\n        \"min\": 0.5065,\n        \"max\": 1.5281,\n        \"num_unique_values\": 7,\n        \"samples\": [\n          1.5281,\n          0.5065,\n          0.5843\n        ],\n        \"semantic_type\": \"\",\n        \"description\": \"\"\n      }\n    },\n    {\n      \"column\": [\n        \"Davies-Bouldin\",\n        \"Transformation + Normalization\"\n      ],\n      \"properties\": {\n        \"dtype\": \"number\",\n        \"std\": 0.4397265839258654,\n        \"min\": 1.4134,\n        \"max\": 2.3787,\n        \"num_unique_values\": 7,\n        \"samples\": [\n          1.4134,\n          2.3787,\n          2.291\n        ],\n        \"semantic_type\": \"\",\n        \"description\": \"\"\n      }\n    },\n    {\n      \"column\": [\n        \"Davies-Bouldin\",\n        \"Transformation + Normalization + PCA\"\n      ],\n      \"properties\": {\n        \"dtype\": \"number\",\n        \"std\": 0.4938427052210045,\n        \"min\": 1.4134,\n        \"max\": 2.747,\n        \"num_unique_values\": 7,\n        \"samples\": [\n          1.4134,\n          2.3787,\n          2.0494\n        ],\n        \"semantic_type\": \"\",\n        \"description\": \"\"\n      }\n    }\n  ]\n}"
            }
          },
          "metadata": {},
          "execution_count": 14
        }
      ]
    },
    {
      "cell_type": "code",
      "source": [
        "print(results_pivot)"
      ],
      "metadata": {
        "colab": {
          "base_uri": "https://localhost:8080/"
        },
        "id": "DomYRAz10Wnx",
        "outputId": "9485c890-49df-48c6-deae-523de5468dbc"
      },
      "execution_count": 15,
      "outputs": [
        {
          "output_type": "stream",
          "name": "stdout",
          "text": [
            "                                        Silhouette                        \\\n",
            "Scenario                     No Data PreProcessing Normalization     PCA   \n",
            "Algorithm Number of Clusters                                               \n",
            "dbscan    3                                -0.3585       -0.4274 -0.3585   \n",
            "          4                                -0.3585       -0.4274 -0.3585   \n",
            "          5                                -0.3585       -0.4274 -0.3585   \n",
            "hclust    3                                 0.6663        0.0607  0.6663   \n",
            "          4                                 0.6670        0.0813  0.6670   \n",
            "          5                                 0.6644        0.0891  0.6644   \n",
            "kmeans    3                                 0.6950        0.1147  0.6950   \n",
            "          4                                 0.6758        0.0858  0.6758   \n",
            "          5                                 0.6224        0.0541  0.6278   \n",
            "\n",
            "                                                                            \\\n",
            "Scenario                     Transformation Transformation + Normalization   \n",
            "Algorithm Number of Clusters                                                 \n",
            "dbscan    3                         -0.7146                        -0.4274   \n",
            "          4                         -0.7146                        -0.4274   \n",
            "          5                         -0.7146                        -0.4274   \n",
            "hclust    3                          0.5475                         0.0607   \n",
            "          4                          0.4754                         0.0813   \n",
            "          5                          0.4593                         0.0891   \n",
            "kmeans    3                          0.5480                         0.1704   \n",
            "          4                          0.5027                         0.0771   \n",
            "          5                          0.4865                         0.0905   \n",
            "\n",
            "                                                                   \\\n",
            "Scenario                     Transformation + Normalization + PCA   \n",
            "Algorithm Number of Clusters                                        \n",
            "dbscan    3                                               -0.4274   \n",
            "          4                                               -0.4274   \n",
            "          5                                               -0.4274   \n",
            "hclust    3                                                0.0607   \n",
            "          4                                                0.0813   \n",
            "          5                                                0.0891   \n",
            "kmeans    3                                                0.0799   \n",
            "          4                                                0.0574   \n",
            "          5                                                0.1021   \n",
            "\n",
            "                                 Calinski-Harabasz                            \\\n",
            "Scenario                     No Data PreProcessing Normalization         PCA   \n",
            "Algorithm Number of Clusters                                                   \n",
            "dbscan    3                                 2.9168       11.1629      2.9168   \n",
            "          4                                 2.9168       11.1629      2.9168   \n",
            "          5                                 2.9168       11.1629      2.9168   \n",
            "hclust    3                             14724.3807      721.7452  14724.3807   \n",
            "          4                             15605.0983      728.5675  15605.0983   \n",
            "          5                             16904.5948      739.8240  16904.5948   \n",
            "kmeans    3                             15202.0688      768.0329  15202.0688   \n",
            "          4                             17232.3126      667.4294  17232.3126   \n",
            "          5                             20334.6668      838.2072  19802.1918   \n",
            "\n",
            "                                                                            \\\n",
            "Scenario                     Transformation Transformation + Normalization   \n",
            "Algorithm Number of Clusters                                                 \n",
            "dbscan    3                         30.7557                        11.1629   \n",
            "          4                         30.7557                        11.1629   \n",
            "          5                         30.7557                        11.1629   \n",
            "hclust    3                     311755.5460                       721.7452   \n",
            "          4                     292623.8974                       728.5675   \n",
            "          5                     296311.3836                       739.8240   \n",
            "kmeans    3                     315502.9890                       970.0911   \n",
            "          4                     318296.6009                       726.0686   \n",
            "          5                     308221.5927                       955.0055   \n",
            "\n",
            "                                                                   \\\n",
            "Scenario                     Transformation + Normalization + PCA   \n",
            "Algorithm Number of Clusters                                        \n",
            "dbscan    3                                               11.1629   \n",
            "          4                                               11.1629   \n",
            "          5                                               11.1629   \n",
            "hclust    3                                              721.7452   \n",
            "          4                                              728.5675   \n",
            "          5                                              739.8240   \n",
            "kmeans    3                                              902.9892   \n",
            "          4                                              759.8312   \n",
            "          5                                              839.1009   \n",
            "\n",
            "                                    Davies-Bouldin                        \\\n",
            "Scenario                     No Data PreProcessing Normalization     PCA   \n",
            "Algorithm Number of Clusters                                               \n",
            "dbscan    3                                 0.9412        1.4134  0.9412   \n",
            "          4                                 0.9412        1.4134  0.9412   \n",
            "          5                                 0.9412        1.4134  0.9412   \n",
            "hclust    3                                 0.5806        2.3787  0.5806   \n",
            "          4                                 0.4986        2.3035  0.4986   \n",
            "          5                                 0.5471        2.3236  0.5471   \n",
            "kmeans    3                                 0.5601        2.5171  0.5601   \n",
            "          4                                 0.5416        2.4386  0.5416   \n",
            "          5                                 0.5643        2.1077  0.5175   \n",
            "\n",
            "                                                                            \\\n",
            "Scenario                     Transformation Transformation + Normalization   \n",
            "Algorithm Number of Clusters                                                 \n",
            "dbscan    3                          1.5281                         1.4134   \n",
            "          4                          1.5281                         1.4134   \n",
            "          5                          1.5281                         1.4134   \n",
            "hclust    3                          0.5065                         2.3787   \n",
            "          4                          0.6176                         2.3035   \n",
            "          5                          0.6537                         2.3236   \n",
            "kmeans    3                          0.5108                         2.1190   \n",
            "          4                          0.5843                         2.2910   \n",
            "          5                          0.6168                         2.2757   \n",
            "\n",
            "                                                                   \n",
            "Scenario                     Transformation + Normalization + PCA  \n",
            "Algorithm Number of Clusters                                       \n",
            "dbscan    3                                                1.4134  \n",
            "          4                                                1.4134  \n",
            "          5                                                1.4134  \n",
            "hclust    3                                                2.3787  \n",
            "          4                                                2.3035  \n",
            "          5                                                2.3236  \n",
            "kmeans    3                                                2.7470  \n",
            "          4                                                2.0494  \n",
            "          5                                                1.8619  \n"
          ]
        }
      ]
    },
    {
      "cell_type": "code",
      "source": [
        "results_pivot.to_csv('result.csv')\n",
        "print(\"Result file save sucessfully!!\")"
      ],
      "metadata": {
        "colab": {
          "base_uri": "https://localhost:8080/"
        },
        "id": "qzpvgWqOqdqa",
        "outputId": "30be1352-8563-42e9-bf93-76c96960ef77"
      },
      "execution_count": 16,
      "outputs": [
        {
          "output_type": "stream",
          "name": "stdout",
          "text": [
            "Result file save sucessfully!!\n"
          ]
        }
      ]
    }
  ]
}